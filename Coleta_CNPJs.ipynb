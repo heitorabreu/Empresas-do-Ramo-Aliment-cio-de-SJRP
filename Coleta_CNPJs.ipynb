{
 "cells": [
  {
   "cell_type": "markdown",
   "id": "016f135a-c278-49b2-82a0-2d2521b07774",
   "metadata": {},
   "source": [
    "<h2>Bibliotecas que devem ser instaladas</h2>\n",
    "Para que o programa funcione, é necessário instalar as bibliotecas 'requests' e 'pandas'.\n",
    "Para isso, digite os seguintes comandos no terminal:\n",
    "\n",
    "\n",
    "pip install requests\n",
    "\n",
    "pip install pandas"
   ]
  },
  {
   "cell_type": "code",
   "execution_count": 1,
   "id": "b849b947-e38d-49c0-baa3-55799857e7f7",
   "metadata": {},
   "outputs": [],
   "source": [
    "import requests\n",
    "import json\n",
    "import pandas as pd\n",
    "from time import sleep\n",
    "\n",
    "def consulta_cnpj(cnpj):\n",
    "    url = f\"https://receitaws.com.br/v1/cnpj/{cnpj}\"\n",
    "    headers = {\"Content-Type\": \"application/json\"}\n",
    "    response = requests.request(\"GET\", url, headers=headers)\n",
    "    #print(response.text)\n",
    "    return response.json()"
   ]
  },
  {
   "cell_type": "markdown",
   "id": "490ef7d7-b6e2-4092-a20f-e69548f4e008",
   "metadata": {},
   "source": [
    "<h2>Utilizando a API da Receita Federal para consultar CNPJs</h2>\n",
    "A API permite consultar apenas 3 CNPJs por minuto, portanto, a cada 3 CNPJs consultados, o programa tem um time-out de 63s, para evitar que erros ocorram.\n",
    "\n",
    "Isso faz com que o programa demore um pouco mais para consultar vários CNPJs, minha sugestão é rodar o programa e fazer outra coisa até que sua execução seja concluída.\n",
    "\n",
    "Ex: Um programa que lê um arquivo com 15 CNPJs demoraria no mínimo, 15/3 = 5 minutos para terminar sua execução."
   ]
  },
  {
   "cell_type": "markdown",
   "id": "bb4ffdcd-a89a-43e3-a8f3-4df7509e7114",
   "metadata": {},
   "source": [
    "<h2>Como usar o programa</h2>\n",
    "Para utilizar o programa, você deve alimentar uma planilha de Excel com os CNPJs que deseja consultar, coloque todos na mesma coluna, ex: \n",
    "\n",
    "00.000.000/0000-00\n",
    "\n",
    "00.000.000/0000-00 \n",
    "\n",
    "00.000.000/0000-00 \n",
    "\n",
    "00.000.000/0000-00\n",
    "\n",
    "00.000.000/0000-00\n",
    "\n",
    "Após fazer isso, execute o programa. Primeiro, você deverá digitar o nome do arquivo '.xlsx' em que esses CNPJs estão armazenados, NÃO digite o sufixo '.xlsx'.\n",
    "ex: Caso meu arquivo seja 'cnpjs.xlsx', o que deverá ser digitado é apenas 'cnpjs'.\n",
    "Em seguida, você deverá especificar em qual planilha do arquivo '.xlsx' os CNPJs estão salvos, caso o arquivo só tenha a planilha principal, basta pressionar a tecla ENTER.\n",
    "\n",
    "Seguindo, o arquivo executará a busca dos CNPJs, respeitando o máximo de 3 CNPJs por minuto.\n",
    "Após todos CNPJs serem consultados, você deve especificar o arquivo Excel no qual deseja armazená-los, novamente, não digite o sufixo '.xlsx'."
   ]
  },
  {
   "cell_type": "code",
   "execution_count": 2,
   "id": "2394f357-ee7a-4f88-b00c-c07d087ab708",
   "metadata": {
    "tags": []
   },
   "outputs": [
    {
     "name": "stdout",
     "output_type": "stream",
     "text": [
      "Digite o nome do arquivo xlsx em que os CNPJs estão armazenados, sem o sufixo .xlsx:\n"
     ]
    },
    {
     "name": "stdin",
     "output_type": "stream",
     "text": [
      " cnpjs2\n"
     ]
    },
    {
     "name": "stdout",
     "output_type": "stream",
     "text": [
      "Digite o nome da planilha em que os CNPJs estão\n"
     ]
    },
    {
     "name": "stdin",
     "output_type": "stream",
     "text": [
      " Planilha1\n"
     ]
    },
    {
     "name": "stdout",
     "output_type": "stream",
     "text": [
      "Digite o arquivo no qual deseja salvar os dados da empresa, sem o sufixo .xlsx\n"
     ]
    },
    {
     "name": "stdin",
     "output_type": "stream",
     "text": [
      " CNPJ\n"
     ]
    }
   ],
   "source": [
    "print(\"Digite o nome do arquivo xlsx em que os CNPJs estão armazenados, sem o sufixo .xlsx:\")\n",
    "arquivo = input()\n",
    "print(\"Digite o nome da planilha em que os CNPJs estão\")\n",
    "planilha = input()\n",
    "\n",
    "cnpjs = pd.read_excel(f'{arquivo}.xlsx', sheet_name=f'{planilha}', header=None)\n",
    "cnpjs = cnpjs[0].to_list()\n",
    "#Caso voce queira visualizar a lista de CNPJs, apague o # da linha seguinte\n",
    "#display(cnpjs)\n",
    "\n",
    "chars = './- '\n",
    "n = len(cnpjs)\n",
    "\n",
    "for i in range(0, n):\n",
    "    res = cnpjs[i].translate(str.maketrans('', '', chars))\n",
    "    cnpjs[i] = res\n",
    "    \n",
    "dados = []\n",
    "contador = 0    "
   ]
  },
  {
   "cell_type": "code",
   "execution_count": null,
   "id": "60ee3a99-36b0-4505-b9c2-e9d0fbb408f5",
   "metadata": {},
   "outputs": [],
   "source": [
    "for i in range(0, n):\n",
    "    if(contador==3):\n",
    "        contador = 0\n",
    "        sleep(63)        \n",
    "    aux = consulta_cnpj(cnpjs[i])\n",
    "    dados.insert(i, aux)\n",
    "    contador+=1"
   ]
  },
  {
   "cell_type": "code",
   "execution_count": 3,
   "id": "8781f707-656d-459b-b654-a07577408dd3",
   "metadata": {},
   "outputs": [],
   "source": [
    "lista = []\n",
    "for i in range(0, n):\n",
    "    endereco = dados[i]['logradouro'] + ', ' + dados[i]['numero'] + ' ' + dados[i]['complemento']\n",
    "    lista.insert(i, [ dados[i]['fantasia'], dados[i]['telefone'], dados[i]['cnpj'], endereco, \n",
    "                     dados[i]['bairro'], dados[i]['cep'], dados[i]['porte'], \n",
    "                     dados[i]['atividade_principal'][0]['code'] ]\n",
    "                )\n",
    "\n",
    "print(\"Digite o arquivo no qual deseja salvar os dados da empresa, sem o sufixo .xlsx\")\n",
    "arq_saida = input()\n",
    "    \n",
    "frame = pd.DataFrame(lista)\n",
    "frame.to_excel(f'{arq_saida}.xlsx')"
   ]
  },
  {
   "cell_type": "code",
   "execution_count": null,
   "id": "b0a29e2b-bb3f-4459-a580-cdcf2a92d041",
   "metadata": {},
   "outputs": [],
   "source": []
  }
 ],
 "metadata": {
  "kernelspec": {
   "display_name": "Python 3 (ipykernel)",
   "language": "python",
   "name": "python3"
  },
  "language_info": {
   "codemirror_mode": {
    "name": "ipython",
    "version": 3
   },
   "file_extension": ".py",
   "mimetype": "text/x-python",
   "name": "python",
   "nbconvert_exporter": "python",
   "pygments_lexer": "ipython3",
   "version": "3.9.13"
  }
 },
 "nbformat": 4,
 "nbformat_minor": 5
}
